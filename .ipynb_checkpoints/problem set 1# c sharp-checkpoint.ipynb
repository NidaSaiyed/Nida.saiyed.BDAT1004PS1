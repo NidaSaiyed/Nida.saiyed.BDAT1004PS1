{
 "cells": [
  {
   "cell_type": "code",
   "execution_count": 1,
   "id": "47e5d931",
   "metadata": {},
   "outputs": [
    {
     "name": "stdout",
     "output_type": "stream",
     "text": [
      "Data type of 5: System.Int32\n",
      "Data type of 5.0: System.Double\n",
      "Data type of 5 > 1: System.Boolean\n",
      "Data type of '5': System.Char\n",
      "Data type of 5 * 2: System.Int32\n",
      "Data type of '5' * 2: System.Int32\n",
      "Data type of '5' + '2': System.Int32\n",
      "Data type of 5 / 2: System.Int32\n",
      "Data type of 5 % 2: System.Int32\n",
      "Data type of 5 == 3: System.Boolean\n",
      "Data type of {5, 2, 1}: System.Int32[]\n",
      "Data type of pi: System.Double\n"
     ]
    }
   ],
   "source": [
    "//QUESTION -1\n",
    "\n",
    "using System;\n",
    "\n",
    "Console.WriteLine(\"Data type of 5: \" + 5.GetType());\n",
    "Console.WriteLine(\"Data type of 5.0: \" + 5.0.GetType());\n",
    "Console.WriteLine(\"Data type of 5 > 1: \" + (5 > 1).GetType());\n",
    "Console.WriteLine(\"Data type of '5': \" + ('5').GetType());\n",
    "Console.WriteLine(\"Data type of 5 * 2: \" + (5 * 2).GetType());\n",
    "Console.WriteLine(\"Data type of '5' * 2: \" + ('5' * 2).GetType());\n",
    "Console.WriteLine(\"Data type of '5' + '2': \" + ('5' + '2').GetType());\n",
    "Console.WriteLine(\"Data type of 5 / 2: \" + (5 / 2).GetType());\n",
    "Console.WriteLine(\"Data type of 5 % 2: \" + (5 % 2).GetType());\n",
    "Console.WriteLine(\"Data type of 5 == 3: \" + (5 == 3).GetType());\n",
    "\n",
    "var numbers = new[] { 5, 2, 1 };\n",
    "        Console.WriteLine(\"Data type of {5, 2, 1}: \" + numbers.GetType());\n",
    "var pi = Math.PI;\n",
    "        Console.WriteLine(\"Data type of pi: \" + pi.GetType());"
   ]
  },
  {
   "cell_type": "code",
   "execution_count": 9,
   "id": "a67dafda",
   "metadata": {},
   "outputs": [
    {
     "name": "stdout",
     "output_type": "stream",
     "text": [
      "Total letters in the word: 34\n",
      "It contains 'ice' \n"
     ]
    }
   ],
   "source": [
    "//QUESTION-2 (A) & (B)\n",
    "\n",
    "string word = \"Supercalifragilisticexpialidocious\";\n",
    "int numberOfLetters = word.Length;\n",
    "        Console.WriteLine(\"Total letters in the word: \" + numberOfLetters);\n",
    "\n",
    " if (word.Contains(\"ice\"))\n",
    "        {\n",
    "            Console.WriteLine(\"It contains 'ice' \");\n",
    "        }\n",
    "        else\n",
    "        {\n",
    "            Console.WriteLine(\"It does not contain 'ice'\");\n",
    "        }\n"
   ]
  },
  {
   "cell_type": "code",
   "execution_count": 14,
   "id": "bf333c01",
   "metadata": {},
   "outputs": [
    {
     "name": "stdout",
     "output_type": "stream",
     "text": [
      "The longest word is: Supercalifragilisticexpialidocious\r\n"
     ]
    }
   ],
   "source": [
    "//QUESTION-2 (C) \n",
    "    \n",
    "        string word1 = \"Supercalifragilisticexpialidocious\";\n",
    "        string word2 = \"Honorificabilitudinitatibus\";\n",
    "        string word3 = \"Bababadalgharaghtakamminarronnkonn\";\n",
    "\n",
    "        string longestWord;\n",
    "\n",
    "        if (word1.Length >= word2.Length && word1.Length >= word3.Length)\n",
    "        {\n",
    "            longestWord = word1;\n",
    "        }\n",
    "        else if (word2.Length >= word1.Length && word2.Length >= word3.Length)\n",
    "        {\n",
    "            longestWord = word2;\n",
    "        }\n",
    "        else\n",
    "        {\n",
    "            longestWord = word3;\n",
    "        }\n",
    "\n",
    "        Console.WriteLine(\"The longest word is: \" + longestWord);"
   ]
  },
  {
   "cell_type": "code",
   "execution_count": 6,
   "id": "3dd0519a",
   "metadata": {},
   "outputs": [
    {
     "name": "stdout",
     "output_type": "stream",
     "text": [
      "Bartok\n",
      "Bellini\n",
      "Berlioz\n",
      "Bernstein\n",
      "Borodin\n",
      "Brian\n",
      "Buxtehude\n"
     ]
    }
   ],
   "source": [
    "// QUESTION -2(d)\n",
    "\n",
    "var names = new SortedSet<string>();\n",
    "          names.Add(\"Berlioz\");\n",
    "          names.Add(\"Borodin\");\n",
    "          names.Add(\"Brian\");\n",
    "          names.Add(\"Bartok\");\n",
    "          names.Add(\"Bellini\");\n",
    "          names.Add(\"Buxtehude\");\n",
    "          names.Add(\"Bernstein\");\n",
    "          foreach (var name in names)\n",
    "          {\n",
    "               Console.WriteLine(name);\n",
    "          }"
   ]
  },
  {
   "cell_type": "code",
   "execution_count": 3,
   "id": "88e0039a",
   "metadata": {},
   "outputs": [],
   "source": [
    "//Question-3\n",
    "\n",
    "public class AreaOfTriangle\n",
    "{\n",
    "    public static void Main()\n",
    "    {\n",
    "        Console.Write(\"Enter the length of side 1:\");\n",
    "        double side1 = Convert.ToDouble(Console.ReadLine());\n",
    "        Console.Write(\"Enter the length of side 2:\");\n",
    "        double side2 = Convert.ToDouble(Console.ReadLine());\n",
    "        Console.Write(\"Enter the length of side 3:\");\n",
    "        double side3 = Convert.ToDouble(Console.ReadLine());\n",
    "        double semiperimeter = (side1 + side2 + side3) / 2;\n",
    "        double Area = Math.Sqrt(semiperimeter * (semiperimeter - side1) * (semiperimeter - side2) * (semiperimeter - side3));\n",
    "        Console.Write(\"Area of a Triangle = \" + Area);\n",
    "        Console.ReadKey();\n",
    "    }\n",
    "}"
   ]
  },
  {
   "cell_type": "code",
   "execution_count": 3,
   "id": "d6a23490",
   "metadata": {},
   "outputs": [],
   "source": [
    "// Question-4\n",
    "public class OddEvenSeparator\n",
    "{\n",
    "    public static void Main(string[] args)\n",
    "    {\n",
    "        int evenIndex = 0, oddIndex = 0;\n",
    "\n",
    "        Console.WriteLine(\"Enter the number of elements to be stored\");\n",
    "        int numberOfElements = int.Parse(Console.ReadLine());\n",
    "\n",
    "        int[] inputArray = new int[100];\n",
    "        int[] evenArray = new int[100];\n",
    "        int[] oddArray = new int[100];\n",
    "\n",
    "        for (int i = 0; i < numberOfElements; i++)\n",
    "        {\n",
    "            Console.WriteLine($\"Enter the element at position {i}\");\n",
    "            inputArray[i] = int.Parse(Console.ReadLine());\n",
    "\n",
    "            if (inputArray[i] % 2 == 0)\n",
    "            {\n",
    "                evenArray[evenIndex++] = inputArray[i];\n",
    "            }\n",
    "            else\n",
    "            {\n",
    "                oddArray[oddIndex++] = inputArray[i];\n",
    "            }\n",
    "        }\n",
    "\n",
    "        for (int i = 0; i < numberOfElements; i++)\n",
    "        {\n",
    "            Console.WriteLine($\"Element {i}: {inputArray[i]}\");\n",
    "        }\n",
    "\n",
    "        Console.Write(\"Even elements are: \");\n",
    "        for (int i = 0; i < evenIndex; i++)\n",
    "        {\n",
    "            Console.Write($\" {evenArray[i]}\");\n",
    "        }\n",
    "        Console.WriteLine(\"\\n\");\n",
    "\n",
    "        Console.Write(\"Odd elements are: \");\n",
    "        for (int i = 0; i < oddIndex; i++)\n",
    "        {\n",
    "            Console.Write($\" {oddArray[i]}\");\n",
    "        }\n",
    "    }\n",
    "}"
   ]
  },
  {
   "cell_type": "code",
   "execution_count": 9,
   "id": "aa309b33",
   "metadata": {},
   "outputs": [],
   "source": [
    "//Question-5\n",
    "class Program\n",
    "{\n",
    "    static void Main()\n",
    "    {\n",
    "        Console.WriteLine(\"Enter the x coordinate\");\n",
    "        double x = double.Parse(Console.ReadLine());\n",
    "        Console.WriteLine(\"Enter the y coordinate\");\n",
    "        double y = double.Parse(Console.ReadLine());\n",
    "        Console.WriteLine(\"Enter the x coordinate of the lower left corner\");\n",
    "        double x1 = double.Parse(Console.ReadLine());\n",
    "        Console.WriteLine(\"Enter the y coordinate of the lower left corner\");\n",
    "        double y1 = double.Parse(Console.ReadLine());\n",
    "        Console.WriteLine(\"Enter the x coordinate of the upper right corner\");\n",
    "        double x2 = double.Parse(Console.ReadLine());\n",
    "        Console.WriteLine(\"Enter the y coordinate of the upper right corner\");\n",
    "        double y2 = double.Parse(Console.ReadLine());\n",
    "        \n",
    "        bool result = IsInsideRectangle(x, y, x1, y1, x2, y2);\n",
    "        Console.WriteLine(result);\n",
    "\n",
    "        // Part b\n",
    "        if (IsInsideRectangle(1, 1, 0.3, 0.5, 1.1, 0.7) && IsInsideRectangle(1, 1, 0.5, 0.2, 1.1, 2))\n",
    "        {\n",
    "            Console.WriteLine(\"The coordinate (1, 1) lies inside both rectangles\");\n",
    "        }\n",
    "        else\n",
    "        {\n",
    "            Console.WriteLine(\"The coordinate (1, 1) does not lie inside both rectangles\");\n",
    "        }\n",
    "    }\n",
    "\n",
    "    static bool IsInsideRectangle(double x, double y, double x1, double y1, double x2, double y2)\n",
    "    {\n",
    "        // Check if (x, y) is inside the rectangle\n",
    "        return x > x1 && x < x2 && y > y1 && y < y2;\n",
    "    }\n",
    "}"
   ]
  }
 ],
 "metadata": {
  "kernelspec": {
   "display_name": ".NET (C#)",
   "language": "C#",
   "name": ".net-csharp"
  },
  "language_info": {
   "file_extension": ".cs",
   "mimetype": "text/x-csharp",
   "name": "C#",
   "pygments_lexer": "csharp",
   "version": "8.0"
  }
 },
 "nbformat": 4,
 "nbformat_minor": 5
}
