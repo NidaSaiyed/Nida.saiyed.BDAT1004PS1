{
 "cells": [
  {
   "cell_type": "code",
   "execution_count": 11,
   "id": "366ab7c4",
   "metadata": {},
   "outputs": [
    {
     "name": "stdout",
     "output_type": "stream",
     "text": [
      "please enter your word = NIDA\n",
      "idanay\n"
     ]
    }
   ],
   "source": [
    "#Q-6\n",
    "\n",
    "def pig(str):\n",
    "    str = input(\"please enter your word = \")\n",
    "    vowels = \"aeiou\"\n",
    "    str_lower = str.lower()\n",
    "    \n",
    "    if str_lower[0] in vowels:\n",
    "        A=str_lower + 'way'\n",
    "        print(A)\n",
    "    else:\n",
    "        B=str_lower[1:] + str_lower[0] + 'ay'\n",
    "        print(B)\n",
    "pig(str)"
   ]
  },
  {
   "cell_type": "code",
   "execution_count": 6,
   "id": "e9e49b13",
   "metadata": {},
   "outputs": [
    {
     "name": "stdout",
     "output_type": "stream",
     "text": [
      "There are 15 patients of blood type A\n",
      "There are 1 patients of blood type B\n",
      "There are 13 patients of blood type AB\n",
      "There are 15 patients of blood type O\n",
      "There are 0 patients of blood type OO\n"
     ]
    }
   ],
   "source": [
    "#Q-7\n",
    "\n",
    "def bloodSamples(letter, file_path=r\"C:\\Users\\nida s\\Desktop\\bloodtype1.txt\"):\n",
    "    with open(file_path) as infile:\n",
    "        data = infile.read()\n",
    "    count = 0\n",
    "    for a in data.split(' '):\n",
    "        if letter == a:\n",
    "            count += 1\n",
    "    return int(count)\n",
    "\n",
    "def blood_test():\n",
    "    blood_types = ['A', 'B', 'AB', 'O', 'OO']\n",
    "    for blood_type in blood_types:\n",
    "        count = bloodSamples(blood_type)\n",
    "        print(f\"There are {count} patients of blood type {blood_type}\")\n",
    "\n",
    "blood_test()"
   ]
  },
  {
   "cell_type": "code",
   "execution_count": 5,
   "id": "22f32ec7",
   "metadata": {},
   "outputs": [
    {
     "name": "stdout",
     "output_type": "stream",
     "text": [
      "Enter the currency code: INR\n",
      "Enter the amount: 100\n"
     ]
    },
    {
     "ename": "FileNotFoundError",
     "evalue": "[Errno 2] No such file or directory: 'currencies.txt'",
     "output_type": "error",
     "traceback": [
      "\u001b[1;31m---------------------------------------------------------------------------\u001b[0m",
      "\u001b[1;31mFileNotFoundError\u001b[0m                         Traceback (most recent call last)",
      "Cell \u001b[1;32mIn[5], line 19\u001b[0m\n\u001b[0;32m     16\u001b[0m     \u001b[38;5;28;01melse\u001b[39;00m:\n\u001b[0;32m     17\u001b[0m         \u001b[38;5;28mprint\u001b[39m(\u001b[38;5;124m\"\u001b[39m\u001b[38;5;124mInvalid currency code. Please enter a valid code.\u001b[39m\u001b[38;5;124m\"\u001b[39m)\n\u001b[1;32m---> 19\u001b[0m curconv(\u001b[38;5;124m'\u001b[39m\u001b[38;5;124mEUR\u001b[39m\u001b[38;5;124m'\u001b[39m,\u001b[38;5;241m100\u001b[39m)\n",
      "Cell \u001b[1;32mIn[5], line 8\u001b[0m, in \u001b[0;36mcurconv\u001b[1;34m(cur, amount)\u001b[0m\n\u001b[0;32m      5\u001b[0m user_currency \u001b[38;5;241m=\u001b[39m \u001b[38;5;28minput\u001b[39m(\u001b[38;5;124m\"\u001b[39m\u001b[38;5;124mEnter the currency code: \u001b[39m\u001b[38;5;124m\"\u001b[39m)\n\u001b[0;32m      6\u001b[0m user_amount \u001b[38;5;241m=\u001b[39m \u001b[38;5;28mfloat\u001b[39m(\u001b[38;5;28minput\u001b[39m(\u001b[38;5;124m\"\u001b[39m\u001b[38;5;124mEnter the amount: \u001b[39m\u001b[38;5;124m\"\u001b[39m))\n\u001b[1;32m----> 8\u001b[0m \u001b[38;5;28;01mwith\u001b[39;00m \u001b[38;5;28mopen\u001b[39m(\u001b[38;5;124m\"\u001b[39m\u001b[38;5;124mcurrencies.txt\u001b[39m\u001b[38;5;124m\"\u001b[39m, \u001b[38;5;124m'\u001b[39m\u001b[38;5;124mr\u001b[39m\u001b[38;5;124m'\u001b[39m) \u001b[38;5;28;01mas\u001b[39;00m infile:\n\u001b[0;32m      9\u001b[0m     \u001b[38;5;28;01mfor\u001b[39;00m line \u001b[38;5;129;01min\u001b[39;00m infile\u001b[38;5;241m.\u001b[39mreadlines():\n\u001b[0;32m     10\u001b[0m         key, val \u001b[38;5;241m=\u001b[39m line\u001b[38;5;241m.\u001b[39msplit()[\u001b[38;5;241m0\u001b[39m], line\u001b[38;5;241m.\u001b[39msplit()[\u001b[38;5;241m1\u001b[39m]\n",
      "File \u001b[1;32m~\\anaconda3\\Lib\\site-packages\\IPython\\core\\interactiveshell.py:286\u001b[0m, in \u001b[0;36m_modified_open\u001b[1;34m(file, *args, **kwargs)\u001b[0m\n\u001b[0;32m    279\u001b[0m \u001b[38;5;28;01mif\u001b[39;00m file \u001b[38;5;129;01min\u001b[39;00m {\u001b[38;5;241m0\u001b[39m, \u001b[38;5;241m1\u001b[39m, \u001b[38;5;241m2\u001b[39m}:\n\u001b[0;32m    280\u001b[0m     \u001b[38;5;28;01mraise\u001b[39;00m \u001b[38;5;167;01mValueError\u001b[39;00m(\n\u001b[0;32m    281\u001b[0m         \u001b[38;5;124mf\u001b[39m\u001b[38;5;124m\"\u001b[39m\u001b[38;5;124mIPython won\u001b[39m\u001b[38;5;124m'\u001b[39m\u001b[38;5;124mt let you open fd=\u001b[39m\u001b[38;5;132;01m{\u001b[39;00mfile\u001b[38;5;132;01m}\u001b[39;00m\u001b[38;5;124m by default \u001b[39m\u001b[38;5;124m\"\u001b[39m\n\u001b[0;32m    282\u001b[0m         \u001b[38;5;124m\"\u001b[39m\u001b[38;5;124mas it is likely to crash IPython. If you know what you are doing, \u001b[39m\u001b[38;5;124m\"\u001b[39m\n\u001b[0;32m    283\u001b[0m         \u001b[38;5;124m\"\u001b[39m\u001b[38;5;124myou can use builtins\u001b[39m\u001b[38;5;124m'\u001b[39m\u001b[38;5;124m open.\u001b[39m\u001b[38;5;124m\"\u001b[39m\n\u001b[0;32m    284\u001b[0m     )\n\u001b[1;32m--> 286\u001b[0m \u001b[38;5;28;01mreturn\u001b[39;00m io_open(file, \u001b[38;5;241m*\u001b[39margs, \u001b[38;5;241m*\u001b[39m\u001b[38;5;241m*\u001b[39mkwargs)\n",
      "\u001b[1;31mFileNotFoundError\u001b[0m: [Errno 2] No such file or directory: 'currencies.txt'"
     ]
    }
   ],
   "source": [
    "#Q-8\n",
    "\n",
    "def curconv(cur, amount):\n",
    "    currency_dict = {}\n",
    "    user_currency = input(\"Enter the currency code: \")\n",
    "    user_amount = float(input(\"Enter the amount: \"))\n",
    "\n",
    "    with open(\"currencies.txt\", 'r') as infile:\n",
    "        for line in infile.readlines():\n",
    "            key, val = line.split()[0], line.split()[1]\n",
    "            currency_dict[key] = val\n",
    "\n",
    "    if user_currency in currency_dict:\n",
    "        result = float(currency_dict[user_currency]) * user_amount\n",
    "        print(f\"{user_amount} {user_currency} is approximately {result:.2f} USD\")\n",
    "    else:\n",
    "        print(\"Invalid currency code. Please enter a valid code.\")\n",
    "        \n",
    "curconv('EUR',100)"
   ]
  },
  {
   "cell_type": "code",
   "execution_count": null,
   "id": "7a57186b",
   "metadata": {},
   "outputs": [],
   "source": [
    "#Q-9\n",
    "\n",
    "TypeError: 6 + 'a'\n",
    "IndexError: 12th item in 10 item list\n",
    "ValueError: math.sqrt(-1.0)\n",
    "NameError: print(x) where x is not defined\n",
    "FileNotFoundError: open a file that does not exist"
   ]
  },
  {
   "cell_type": "code",
   "execution_count": 6,
   "id": "f2ecf9ef",
   "metadata": {},
   "outputs": [
    {
     "data": {
      "text/plain": [
       "[1, 1, 1, 3, 5, 1, 1, 2, 1, 0, 1, 0, 1, 2, 4, 0, 1, 2, 0, 3, 1, 0, 1, 1, 0, 0]"
      ]
     },
     "execution_count": 6,
     "metadata": {},
     "output_type": "execute_result"
    }
   ],
   "source": [
    "#Q-10\n",
    "def frequencies(str):\n",
    "    letters = \"abcdefghijklmnopqrstuvwxyz\"\n",
    "    lst = []\n",
    "    for a in letters:\n",
    "        lst.append(str.count(a))\n",
    "        \n",
    "    return lst\n",
    "\n",
    "frequencies('the quick red fox got bored and went home')"
   ]
  }
 ],
 "metadata": {
  "kernelspec": {
   "display_name": "Python 3 (ipykernel)",
   "language": "python",
   "name": "python3"
  },
  "language_info": {
   "codemirror_mode": {
    "name": "ipython",
    "version": 3
   },
   "file_extension": ".py",
   "mimetype": "text/x-python",
   "name": "python",
   "nbconvert_exporter": "python",
   "pygments_lexer": "ipython3",
   "version": "3.11.5"
  }
 },
 "nbformat": 4,
 "nbformat_minor": 5
}
